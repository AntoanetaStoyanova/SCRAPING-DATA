{
 "cells": [
  {
   "cell_type": "code",
   "execution_count": 2,
   "metadata": {},
   "outputs": [],
   "source": [
    "from bs4 import BeautifulSoup\n",
    "import requests\n",
    "import pandas as pd\n",
    "from csv import writer"
   ]
  },
  {
   "cell_type": "code",
   "execution_count": 7,
   "metadata": {},
   "outputs": [],
   "source": [
    "\n",
    "base_url = 'https://passioneongles.fr/collections/nouveautes'\n",
    "url_seperator = '?page='\n",
    "page_num = '1'\n"
   ]
  },
  {
   "cell_type": "code",
   "execution_count": 8,
   "metadata": {},
   "outputs": [],
   "source": [
    "with open('articles.csv', 'w', newline='', encoding='utf8') as f:\n",
    "    thewriter = writer(f)\n",
    "    header = ['Article', 'Price']\n",
    "    thewriter.writerow(header)\n",
    "    \n",
    "    while True:\n",
    "        url = base_url + url_seperator + str(page_num)\n",
    "        page = requests.get(url)\n",
    "        soup = BeautifulSoup(page.content, 'html.parser')\n",
    "        results = soup.find_all('div', class_='grid-product__content')\n",
    "    \n",
    "        if not results:\n",
    "            # No more pages to scrape, break out of the loop\n",
    "            break\n",
    "\n",
    "        for result in results:\n",
    "            title = result.find('div', class_='grid-product__title').text.replace('\\n', '')\n",
    "            price = result.find('div', class_='grid-product__price').text.replace('\\n', '')\n",
    "            articleinfo = [title, price]\n",
    "            thewriter.writerow(articleinfo)\n",
    "           \n",
    "        page_num = 1"
   ]
  },
  {
   "cell_type": "code",
   "execution_count": 9,
   "metadata": {},
   "outputs": [
    {
     "data": {
      "text/html": [
       "<div>\n",
       "<style scoped>\n",
       "    .dataframe tbody tr th:only-of-type {\n",
       "        vertical-align: middle;\n",
       "    }\n",
       "\n",
       "    .dataframe tbody tr th {\n",
       "        vertical-align: top;\n",
       "    }\n",
       "\n",
       "    .dataframe thead th {\n",
       "        text-align: right;\n",
       "    }\n",
       "</style>\n",
       "<table border=\"1\" class=\"dataframe\">\n",
       "  <thead>\n",
       "    <tr style=\"text-align: right;\">\n",
       "      <th></th>\n",
       "      <th>Article</th>\n",
       "      <th>Price</th>\n",
       "    </tr>\n",
       "  </thead>\n",
       "  <tbody>\n",
       "    <tr>\n",
       "      <th>0</th>\n",
       "      <td>KIT Fashion Show</td>\n",
       "      <td>€34,99</td>\n",
       "    </tr>\n",
       "    <tr>\n",
       "      <th>1</th>\n",
       "      <td>SP517 Runway</td>\n",
       "      <td>€7,99</td>\n",
       "    </tr>\n",
       "    <tr>\n",
       "      <th>2</th>\n",
       "      <td>SP518 Front Row</td>\n",
       "      <td>€7,99</td>\n",
       "    </tr>\n",
       "    <tr>\n",
       "      <th>3</th>\n",
       "      <td>SP519 Top Model</td>\n",
       "      <td>€7,99</td>\n",
       "    </tr>\n",
       "    <tr>\n",
       "      <th>4</th>\n",
       "      <td>SP520 Catwalk</td>\n",
       "      <td>€7,99</td>\n",
       "    </tr>\n",
       "    <tr>\n",
       "      <th>...</th>\n",
       "      <td>...</td>\n",
       "      <td>...</td>\n",
       "    </tr>\n",
       "    <tr>\n",
       "      <th>6967</th>\n",
       "      <td>Woodstock - Sticker</td>\n",
       "      <td>€3,99</td>\n",
       "    </tr>\n",
       "    <tr>\n",
       "      <th>6968</th>\n",
       "      <td>Lampe Master Lux</td>\n",
       "      <td>€129,99</td>\n",
       "    </tr>\n",
       "    <tr>\n",
       "      <th>6969</th>\n",
       "      <td>SP500 Supernatural</td>\n",
       "      <td>€12,99</td>\n",
       "    </tr>\n",
       "    <tr>\n",
       "      <th>6970</th>\n",
       "      <td>SP501 Enigma</td>\n",
       "      <td>€12,99</td>\n",
       "    </tr>\n",
       "    <tr>\n",
       "      <th>6971</th>\n",
       "      <td>SP502 Incantation</td>\n",
       "      <td>€12,99</td>\n",
       "    </tr>\n",
       "  </tbody>\n",
       "</table>\n",
       "<p>6972 rows × 2 columns</p>\n",
       "</div>"
      ],
      "text/plain": [
       "                  Article    Price\n",
       "0        KIT Fashion Show   €34,99\n",
       "1            SP517 Runway    €7,99\n",
       "2         SP518 Front Row    €7,99\n",
       "3         SP519 Top Model    €7,99\n",
       "4           SP520 Catwalk    €7,99\n",
       "...                   ...      ...\n",
       "6967  Woodstock - Sticker    €3,99\n",
       "6968     Lampe Master Lux  €129,99\n",
       "6969   SP500 Supernatural   €12,99\n",
       "6970         SP501 Enigma   €12,99\n",
       "6971    SP502 Incantation   €12,99\n",
       "\n",
       "[6972 rows x 2 columns]"
      ]
     },
     "execution_count": 9,
     "metadata": {},
     "output_type": "execute_result"
    }
   ],
   "source": [
    "article_ongle = pd.read_csv('articles.csv')\n",
    "article_ongle"
   ]
  }
 ],
 "metadata": {
  "kernelspec": {
   "display_name": "base",
   "language": "python",
   "name": "python3"
  },
  "language_info": {
   "codemirror_mode": {
    "name": "ipython",
    "version": 3
   },
   "file_extension": ".py",
   "mimetype": "text/x-python",
   "name": "python",
   "nbconvert_exporter": "python",
   "pygments_lexer": "ipython3",
   "version": "3.10.9"
  },
  "orig_nbformat": 4
 },
 "nbformat": 4,
 "nbformat_minor": 2
}
